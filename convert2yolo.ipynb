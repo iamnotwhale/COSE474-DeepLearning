{
 "cells": [
  {
   "cell_type": "code",
   "execution_count": 35,
   "metadata": {},
   "outputs": [],
   "source": [
    "# file description : data -> class별로 분류되어있음\n",
    "# disease 폴더 : class 7, 8 섞여 있음 -> data폴더로 옮겨서 train test val 나누기\n",
    "\n",
    "import os \n",
    "import shutil\n",
    "import cv2"
   ]
  },
  {
   "cell_type": "code",
   "execution_count": 36,
   "metadata": {},
   "outputs": [
    {
     "name": "stdout",
     "output_type": "stream",
     "text": [
      "/Users/bykwon/Desktop/dl/finalproj\n"
     ]
    }
   ],
   "source": [
    "# 현재 디렉토리 확인\n",
    "print(os.getcwd())"
   ]
  },
  {
   "cell_type": "code",
   "execution_count": 37,
   "metadata": {},
   "outputs": [],
   "source": [
    "path = os.getcwd() + '/disease'\n",
    "\n",
    "# disease 폴더 내의 파일들을 data 폴더로 옮기기\n",
    "file_list = os.listdir(path)\n",
    "\n",
    "for file in file_list:\n",
    "    file_name_list = file.split(\"_\")\n",
    "    if file_name_list[3] == '07':\n",
    "        shutil.move(path + '/' + file, os.getcwd() + '/data/class7')\n",
    "    elif file_name_list[3] == '08':\n",
    "        shutil.move(path + '/' + file, os.getcwd() + '/data/class8')"
   ]
  },
  {
   "cell_type": "code",
   "execution_count": 38,
   "metadata": {},
   "outputs": [],
   "source": [
    "# json -> txt format\n",
    "import json\n",
    "\n",
    "def convert_to_yolo(filename):\n",
    "    json_data = json.load(open(filename))\n",
    "    class_label = json_data[\"annotations\"][\"disease\"]\n",
    "    image_width = json_data[\"description\"][\"width\"]\n",
    "    image_height = json_data[\"description\"][\"height\"]\n",
    "    xtl = json_data[\"annotations\"][\"points\"][0][\"xtl\"]\n",
    "    ytl = json_data[\"annotations\"][\"points\"][0][\"ytl\"]\n",
    "    xbr = json_data[\"annotations\"][\"points\"][0][\"xbr\"]\n",
    "    ybr = json_data[\"annotations\"][\"points\"][0][\"ybr\"]\n",
    "\n",
    "    if class_label == 7:\n",
    "        class_label = 1\n",
    "    elif class_label == 8:\n",
    "        class_label = 2\n",
    "\n",
    "    # YOLO format calculations\n",
    "    center_x = (xtl + xbr) / (2 * image_width)\n",
    "    center_y = (ytl + ybr) / (2 * image_height)\n",
    "    width = (xbr - xtl) / image_width\n",
    "    height = (ybr - ytl) / image_height\n",
    "\n",
    "    with open(filename.replace(\".json\", \".txt\"), \"w\") as f:\n",
    "        f.write(f\"{class_label} {center_x} {center_y} {width} {height}\")\n",
    "\n",
    "    # return yolo_format"
   ]
  },
  {
   "cell_type": "code",
   "execution_count": 39,
   "metadata": {},
   "outputs": [
    {
     "name": "stdout",
     "output_type": "stream",
     "text": [
      "/Users/bykwon/Desktop/dl/finalproj\n"
     ]
    }
   ],
   "source": [
    "# 현재 디렉토리 확인\n",
    "print(os.getcwd())"
   ]
  },
  {
   "cell_type": "code",
   "execution_count": 40,
   "metadata": {},
   "outputs": [],
   "source": [
    "path_list = [os.getcwd() + '/data/class0', os.getcwd() + '/data/class7', os.getcwd() + '/data/class8']\n",
    "\n",
    "for path in path_list:\n",
    "    for file in os.listdir(path):\n",
    "        if file.endswith(\".json\"):\n",
    "            convert_to_yolo(path + '/' + file)"
   ]
  },
  {
   "cell_type": "code",
   "execution_count": 41,
   "metadata": {},
   "outputs": [
    {
     "name": "stdout",
     "output_type": "stream",
     "text": [
      "/Users/bykwon/Desktop/dl/finalproj\n"
     ]
    }
   ],
   "source": [
    "# json file 밖으로 꺼내기\n",
    "\n",
    "# 현재 디렉토리 확인\n",
    "print(os.getcwd())"
   ]
  },
  {
   "cell_type": "code",
   "execution_count": 42,
   "metadata": {},
   "outputs": [],
   "source": [
    "for path in path_list:\n",
    "    for file in os.listdir(path):\n",
    "        if file.endswith(\".json\"):\n",
    "            shutil.move(path + '/' + file, os.getcwd() + '/disease')"
   ]
  },
  {
   "cell_type": "code",
   "execution_count": 43,
   "metadata": {},
   "outputs": [
    {
     "name": "stderr",
     "output_type": "stream",
     "text": [
      "Copying files: 404 files [00:01, 320.80 files/s]\n"
     ]
    }
   ],
   "source": [
    "# train, test, val 나누기\n",
    "import splitfolders\n",
    "\n",
    "splitfolders.ratio(\"data\", output=\"dataset\", seed=921, ratio=(.8, .1, .1), group_prefix=2)"
   ]
  },
  {
   "cell_type": "code",
   "execution_count": 44,
   "metadata": {},
   "outputs": [
    {
     "name": "stdout",
     "output_type": "stream",
     "text": [
      "/Users/bykwon/Desktop/dl/finalproj\n"
     ]
    }
   ],
   "source": [
    "# 각 폴더마다 images / labels 폴더 생성\n",
    "import os\n",
    "print(os.getcwd())"
   ]
  },
  {
   "cell_type": "code",
   "execution_count": 45,
   "metadata": {},
   "outputs": [],
   "source": [
    "path_list = [os.getcwd() + '/dataset/train', os.getcwd() + '/dataset/test', os.getcwd() + '/dataset/val']\n",
    "\n",
    "for path in path_list:\n",
    "    for folder in os.listdir(path):\n",
    "        os.mkdir(path + '/' + folder + '/images')\n",
    "        os.mkdir(path + '/' + folder + '/labels')\n",
    "\n",
    "        # 항목 이동\n",
    "        for file in os.listdir(path + '/' + folder):\n",
    "            if file.endswith(\".jpg\") or file.endswith(\".JPG\"):\n",
    "                shutil.move(path + '/' + folder + '/' + file, path + '/' + folder + '/images')\n",
    "            elif file.endswith(\".txt\"):\n",
    "                shutil.move(path + '/' + folder + '/' + file, path + '/' + folder + '/labels')"
   ]
  },
  {
   "cell_type": "code",
   "execution_count": 46,
   "metadata": {},
   "outputs": [],
   "source": [
    "new_extension = '.txt'\n",
    "for path in path_list:\n",
    "    for folder in os.listdir(path):\n",
    "        for file in os.listdir(path + '/' + folder + '/labels'):\n",
    "            if file.endswith(\".txt\"):\n",
    "                # 이름 변경하기\n",
    "                if file.endswith('.jpg.txt'):\n",
    "                    os.rename(path + '/' + folder + '/labels/' + file, path + '/' + folder + '/labels/' + file.replace('.jpg.txt', new_extension))\n",
    "                elif file.endswith('.JPG.txt'):\n",
    "                    os.rename(path + '/' + folder + '/labels/' + file, path + '/' + folder + '/labels/' + file.replace('.JPG.txt', new_extension))"
   ]
  },
  {
   "cell_type": "markdown",
   "metadata": {},
   "source": []
  }
 ],
 "metadata": {
  "kernelspec": {
   "display_name": "Python 3",
   "language": "python",
   "name": "python3"
  },
  "language_info": {
   "codemirror_mode": {
    "name": "ipython",
    "version": 3
   },
   "file_extension": ".py",
   "mimetype": "text/x-python",
   "name": "python",
   "nbconvert_exporter": "python",
   "pygments_lexer": "ipython3",
   "version": "3.9.6"
  }
 },
 "nbformat": 4,
 "nbformat_minor": 2
}
